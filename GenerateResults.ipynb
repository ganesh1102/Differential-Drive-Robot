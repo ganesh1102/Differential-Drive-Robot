{
 "cells": [
  {
   "cell_type": "markdown",
   "id": "b3231c77-90ae-4463-957d-ce73293f776f",
   "metadata": {
    "tags": []
   },
   "source": [
    "Import relevant modules and configure the notebook and the kernel."
   ]
  },
  {
   "cell_type": "code",
   "execution_count": 1,
   "id": "6bbd7cdc-2bfb-45b8-adb9-52cae9d4d564",
   "metadata": {
    "tags": []
   },
   "outputs": [
    {
     "name": "stderr",
     "output_type": "stream",
     "text": [
      "pybullet build time: Sep 12 2022 21:19:41\n"
     ]
    },
    {
     "data": {
      "text/plain": [
       "<module 'ae353_segbot' from '/Users/ganesh/ae353-installation/DesignProject2/code/ae353_segbot.py'>"
      ]
     },
     "execution_count": 1,
     "metadata": {},
     "output_type": "execute_result"
    }
   ],
   "source": [
    "# This module is part of the python standard library\n",
    "import time\n",
    "\n",
    "# These modules are part of other existing libraries\n",
    "import numpy as np\n",
    "\n",
    "# These modules help with performing control-related calculation (Ackerman's method, Riccati equation)\n",
    "import scipy.signal as signal\n",
    "import scipy.linalg as la\n",
    "\n",
    "# This module helps with defining the EOMs symbolically\n",
    "import sympy as sym\n",
    "\n",
    "# This module helps to plot our result when we obtain them\n",
    "import matplotlib.pyplot as plt\n",
    "\n",
    "# This is my own script (it is an interface to the pybullet simulator)\n",
    "import ae353_segbot\n",
    "\n",
    "# to help with reloading kernel after a simulation is completed\n",
    "import importlib\n",
    "importlib.reload(ae353_segbot)"
   ]
  },
  {
   "cell_type": "code",
   "execution_count": 2,
   "id": "628b491e-4327-4c00-bce0-ce0fac827a1a",
   "metadata": {},
   "outputs": [],
   "source": [
    "robot = ae353_segbot.RobotSimulator(damping=0., dt=0.01, display=False)"
   ]
  },
  {
   "cell_type": "markdown",
   "id": "756052c9-cd1c-4678-8894-ef1a0d8566cc",
   "metadata": {},
   "source": [
    "First, define the dimensions of SegBot consistent with the relevant UDF file"
   ]
  },
  {
   "cell_type": "code",
   "execution_count": 3,
   "id": "73470591-03aa-4bcf-b72b-05d350e52235",
   "metadata": {},
   "outputs": [],
   "source": [
    "# Dimensions of chassis\n",
    "dx = 0.4\n",
    "dy = 0.6\n",
    "dz = 0.8\n",
    "\n",
    "# Distance between axle and COM of chassis\n",
    "h = 0.3\n",
    "\n",
    "# Half-distance between wheels\n",
    "a = 0.7 / 2\n",
    "\n",
    "# Mass of chassis\n",
    "mb = 12.\n",
    "\n",
    "# MOI of chassis\n",
    "Jbx = (mb / 12) * (dy**2 + dz**2)\n",
    "Jby = (mb / 12) * (dx**2 + dz**2)\n",
    "Jbz = (mb / 12) * (dx**2 + dy**2)\n",
    "\n",
    "# Radius of each wheel\n",
    "r = 0.325\n",
    "\n",
    "# Width of each wheel\n",
    "hw = 0.075\n",
    "\n",
    "# Mass of each wheel\n",
    "mw = 1.2\n",
    "\n",
    "# MOI of each wheel\n",
    "Jw = (mw / 2) * r**2\n",
    "Jwt = (mw / 12) * (3 * r**2 + hw**2)\n",
    "\n",
    "# Total mass\n",
    "m = mb + 2 * mw\n",
    "\n",
    "# Total MOI\n",
    "Jx = Jbx + 2 * Jwt\n",
    "Jy = Jby\n",
    "Jz = Jbz + 2 * Jwt\n",
    "\n",
    "# Acceleration of gravity\n",
    "g = 9.81"
   ]
  },
  {
   "cell_type": "markdown",
   "id": "fbbc7279-895f-42a7-81c2-8baabe43d2f2",
   "metadata": {},
   "source": [
    "Convert the above physical constants to SymPy rational numbers."
   ]
  },
  {
   "cell_type": "code",
   "execution_count": 4,
   "id": "44508399-b907-4874-9afc-c399cf54e926",
   "metadata": {},
   "outputs": [],
   "source": [
    "# Dimensions\n",
    "h = sym.nsimplify(h)\n",
    "a = sym.nsimplify(a)\n",
    "r = sym.nsimplify(r)\n",
    "\n",
    "# Masses\n",
    "mb = sym.nsimplify(mb)\n",
    "mw = sym.nsimplify(mw)\n",
    "m = sym.nsimplify(m)\n",
    "\n",
    "# MOIs\n",
    "Jx = sym.nsimplify(Jx)\n",
    "Jy = sym.nsimplify(Jy)\n",
    "Jz = sym.nsimplify(Jz)\n",
    "Jw = sym.nsimplify(Jw)\n",
    "Jwt = sym.nsimplify(Jwt)\n",
    "\n",
    "# Gravity\n",
    "g = sym.nsimplify(g)"
   ]
  },
  {
   "cell_type": "markdown",
   "id": "b3834b2f-b7a3-4dc4-a1ba-05c20a1e331b",
   "metadata": {},
   "source": [
    "Now, define the variables of the EOMs, specifying that they are real-valued."
   ]
  },
  {
   "cell_type": "code",
   "execution_count": 5,
   "id": "2456c010-b4fd-4386-acc0-36e2b88a1705",
   "metadata": {},
   "outputs": [],
   "source": [
    "(e_l,\n",
    " e_h,\n",
    " v,\n",
    " w,\n",
    " theta,\n",
    " thetadot,\n",
    " tau_L,\n",
    " tau_R) = sym.symbols('e_l, e_h, v, w, theta, thetadot, tau_L, tau_R', real=True)"
   ]
  },
  {
   "cell_type": "markdown",
   "id": "9fcbe078-1081-4607-bd4c-a23244813194",
   "metadata": {},
   "source": [
    "Compute equations of motion, excluding lateral and heading errors:"
   ]
  },
  {
   "cell_type": "code",
   "execution_count": 6,
   "id": "91e589e8-4d9d-4824-bf5e-234f788a8ecb",
   "metadata": {},
   "outputs": [
    {
     "data": {
      "text/latex": [
       "$\\displaystyle \\left[\\begin{matrix}- \\frac{2400 \\tau_{L} + 2400 \\tau_{R} + 2808 \\left(\\dot{\\theta}^{2} + w^{2}\\right) \\sin{\\left(\\theta \\right)} + 13 \\cdot \\left(250 \\tau_{L} + 250 \\tau_{R} - 195 w^{2} \\sin{\\left(2 \\theta \\right)} - 8829 \\sin{\\left(\\theta \\right)}\\right) \\cos{\\left(\\theta \\right)}}{11700 \\cos^{2}{\\left(\\theta \\right)} - 12168}\\\\\\frac{32 \\left(- 875 \\tau_{L} + 875 \\tau_{R} - 1443 \\dot{\\theta} w \\sin{\\left(2 \\theta \\right)} - 2925 v w \\sin{\\left(\\theta \\right)}\\right)}{13 \\cdot \\left(3120 \\sin^{2}{\\left(\\theta \\right)} + 2051\\right)}\\\\\\frac{42250 \\tau_{L} + 42250 \\tau_{R} - 32955 w^{2} \\sin{\\left(2 \\theta \\right)} + 300 \\cdot \\left(100 \\tau_{L} + 100 \\tau_{R} + 117 \\left(\\dot{\\theta}^{2} + w^{2}\\right) \\sin{\\left(\\theta \\right)}\\right) \\cos{\\left(\\theta \\right)} - 1492101 \\sin{\\left(\\theta \\right)}}{1404 \\cdot \\left(25 \\cos^{2}{\\left(\\theta \\right)} - 26\\right)}\\end{matrix}\\right]$"
      ],
      "text/plain": [
       "Matrix([\n",
       "[       -(2400*tau_L + 2400*tau_R + 2808*(thetadot**2 + w**2)*sin(theta) + 13*(250*tau_L + 250*tau_R - 195*w**2*sin(2*theta) - 8829*sin(theta))*cos(theta))/(11700*cos(theta)**2 - 12168)],\n",
       "[                                                                       32*(-875*tau_L + 875*tau_R - 1443*thetadot*w*sin(2*theta) - 2925*v*w*sin(theta))/(13*(3120*sin(theta)**2 + 2051))],\n",
       "[(42250*tau_L + 42250*tau_R - 32955*w**2*sin(2*theta) + 300*(100*tau_L + 100*tau_R + 117*(thetadot**2 + w**2)*sin(theta))*cos(theta) - 1492101*sin(theta))/(1404*(25*cos(theta)**2 - 26))]])"
      ]
     },
     "execution_count": 6,
     "metadata": {},
     "output_type": "execute_result"
    }
   ],
   "source": [
    "M = sym.Matrix([[m + 2 * Jw / r**2, 0, mb * h * sym.cos(theta)],\n",
    "                [0, (Jx + mb * h**2) * sym.sin(theta)**2 + Jz * sym.cos(theta)**2 + (2 * Jw * a**2 / r**2) + 2 * mw * a**2, 0],\n",
    "                [mb * h * sym.cos(theta), 0, Jy * mb * h**2]])\n",
    "N = sym.Matrix([[mb * h * (w**2 + thetadot**2) * sym.sin(theta)],\n",
    "                [-2 * (Jx - Jz + m * h**2) * sym.cos(theta) * sym.sin(theta) * w * thetadot - mb * h * sym.sin(theta) * v * w],\n",
    "                [(Jx - Jz + mb * h**2) * sym.cos(theta) * sym.sin(theta) * w**2 + mb * g * h * sym.sin(theta)]])\n",
    "R = sym.Matrix([[1 / r, 1 / r],\n",
    "                [-a / r, a / r],\n",
    "                [-1, -1]])\n",
    "f = sym.simplify(M.inv() * (N + R * sym.Matrix([[tau_L], [tau_R]])))\n",
    "\n",
    "f"
   ]
  },
  {
   "cell_type": "markdown",
   "id": "4edd7dea-5d9f-47d2-a674-6cc4d9c171fe",
   "metadata": {},
   "source": [
    "Compute full equations of motion:"
   ]
  },
  {
   "cell_type": "code",
   "execution_count": 7,
   "id": "cfafc918-d6ef-4052-8401-6db8d2b33d46",
   "metadata": {},
   "outputs": [],
   "source": [
    "f = sym.Matrix([[v * sym.sin(e_h)],\n",
    "                [w],\n",
    "                [f]])\n",
    "\n",
    "# Replace second-order ODE \n",
    "f = f.row_insert(4,sym.Matrix([[thetadot]]))\n",
    "\n",
    "# Convert floating-point to rational numbers\n",
    "f = sym.nsimplify(f, rational=True)"
   ]
  },
  {
   "cell_type": "code",
   "execution_count": 8,
   "id": "2a8b7a4e-40b1-44a0-a924-9c697e0f4abb",
   "metadata": {},
   "outputs": [
    {
     "data": {
      "text/latex": [
       "$\\displaystyle \\left[\\begin{matrix}v \\sin{\\left(e_{h} \\right)}\\\\w\\\\- \\frac{2400 \\tau_{L} + 2400 \\tau_{R} + 2808 \\left(\\dot{\\theta}^{2} + w^{2}\\right) \\sin{\\left(\\theta \\right)} + 13 \\cdot \\left(250 \\tau_{L} + 250 \\tau_{R} - 195 w^{2} \\sin{\\left(2 \\theta \\right)} - 8829 \\sin{\\left(\\theta \\right)}\\right) \\cos{\\left(\\theta \\right)}}{11700 \\cos^{2}{\\left(\\theta \\right)} - 12168}\\\\\\frac{32 \\left(- 875 \\tau_{L} + 875 \\tau_{R} - 1443 \\dot{\\theta} w \\sin{\\left(2 \\theta \\right)} - 2925 v w \\sin{\\left(\\theta \\right)}\\right)}{13 \\cdot \\left(3120 \\sin^{2}{\\left(\\theta \\right)} + 2051\\right)}\\\\\\dot{\\theta}\\\\\\frac{42250 \\tau_{L} + 42250 \\tau_{R} - 32955 w^{2} \\sin{\\left(2 \\theta \\right)} + 300 \\cdot \\left(100 \\tau_{L} + 100 \\tau_{R} + 117 \\left(\\dot{\\theta}^{2} + w^{2}\\right) \\sin{\\left(\\theta \\right)}\\right) \\cos{\\left(\\theta \\right)} - 1492101 \\sin{\\left(\\theta \\right)}}{1404 \\cdot \\left(25 \\cos^{2}{\\left(\\theta \\right)} - 26\\right)}\\end{matrix}\\right]$"
      ],
      "text/plain": [
       "Matrix([\n",
       "[                                                                                                                                                                              v*sin(e_h)],\n",
       "[                                                                                                                                                                                       w],\n",
       "[       -(2400*tau_L + 2400*tau_R + 2808*(thetadot**2 + w**2)*sin(theta) + 13*(250*tau_L + 250*tau_R - 195*w**2*sin(2*theta) - 8829*sin(theta))*cos(theta))/(11700*cos(theta)**2 - 12168)],\n",
       "[                                                                       32*(-875*tau_L + 875*tau_R - 1443*thetadot*w*sin(2*theta) - 2925*v*w*sin(theta))/(13*(3120*sin(theta)**2 + 2051))],\n",
       "[                                                                                                                                                                                thetadot],\n",
       "[(42250*tau_L + 42250*tau_R - 32955*w**2*sin(2*theta) + 300*(100*tau_L + 100*tau_R + 117*(thetadot**2 + w**2)*sin(theta))*cos(theta) - 1492101*sin(theta))/(1404*(25*cos(theta)**2 - 26))]])"
      ]
     },
     "execution_count": 8,
     "metadata": {},
     "output_type": "execute_result"
    }
   ],
   "source": [
    "f"
   ]
  },
  {
   "cell_type": "markdown",
   "id": "83da1ff8-7392-44a1-a705-a965ca0c8fc8",
   "metadata": {},
   "source": [
    "Next, find the matrices $A$ and $B$ that correspond to the linear system: $\\dot{x} = Ax + Bu$. This will help to linearize the system."
   ]
  },
  {
   "cell_type": "code",
   "execution_count": 9,
   "id": "5f31718c-b821-402f-8ef7-cb3a346579e0",
   "metadata": {},
   "outputs": [],
   "source": [
    "def linearize(e_le, e_he, ve, we, thetae, thetadote, tau_Re, tau_Le):\n",
    "    \n",
    "    # First, find A and B in symbolic form\n",
    "    A_sym = f.jacobian([e_l, e_h, v, w, theta, thetadot])\n",
    "    B_sym = f.jacobian([tau_R, tau_L])\n",
    "    \n",
    "    # Lambdify the symbolic versions of A and B to numerically evaluate A and B\n",
    "    A_num = sym.lambdify([e_l, e_h, v, w, theta, thetadot, tau_R, tau_L], A_sym)\n",
    "    B_num = sym.lambdify([e_l, e_h, v, w, theta, thetadot, tau_R, tau_L], B_sym)\n",
    "\n",
    "    # Return A and B as NumPy arrays.\n",
    "    A = A_num(e_le, e_he, ve, we, thetae, thetadote, tau_Re, tau_Le).astype(float)\n",
    "    B = B_num(e_le, e_he, ve, we, thetae, thetadote, tau_Re, tau_Le).astype(float)\n",
    "    \n",
    "    \n",
    "    \n",
    "    return A, B, A_sym, B_sym"
   ]
  },
  {
   "cell_type": "markdown",
   "id": "5f28da25-97a5-461f-a2f6-be77cb341304",
   "metadata": {},
   "source": [
    "Now, we define the equilibrium conditions."
   ]
  },
  {
   "cell_type": "code",
   "execution_count": 21,
   "id": "58902bca-3c09-4036-8313-3ad339ad0cbd",
   "metadata": {},
   "outputs": [],
   "source": [
    "e_l_e= 0.0\n",
    "e_h_e = 0.0\n",
    "v_e = 1.8\n",
    "theta_e = 0.\n",
    "thetadot_e = 0.\n",
    "w_e = 0\n",
    "tau_right_e = 0.\n",
    "tau_left_e = 0.\n",
    "\n",
    "\n",
    "f_num = sym.lambdify([e_l, e_h, v, w, theta, thetadot, tau_R, tau_L], f)\n",
    "f_eq = f_num(e_l_e, e_h_e, v_e, w_e, theta_e, thetadot_e, tau_right_e, tau_left_e)\n",
    "\n",
    "# Convert numerical array from type 'object' to floats\n",
    "f_eq = np.array(f_eq).astype(np.float64)"
   ]
  },
  {
   "cell_type": "markdown",
   "id": "66879ca8-133f-4280-9580-5d96f04e2928",
   "metadata": {},
   "source": [
    "In order to be an equilibrium point, $f = 0$."
   ]
  },
  {
   "cell_type": "code",
   "execution_count": 11,
   "id": "83d1c546-8d39-4174-8b2e-db3ca529146a",
   "metadata": {},
   "outputs": [
    {
     "data": {
      "text/plain": [
       "array([[ 0.],\n",
       "       [ 0.],\n",
       "       [ 0.],\n",
       "       [ 0.],\n",
       "       [ 0.],\n",
       "       [-0.]])"
      ]
     },
     "execution_count": 11,
     "metadata": {},
     "output_type": "execute_result"
    }
   ],
   "source": [
    "f_eq"
   ]
  },
  {
   "cell_type": "markdown",
   "id": "e8e73298-0527-43ae-905e-b47138459ce9",
   "metadata": {},
   "source": [
    "Next, we want to find the matrices $A$ and $B$ with the equilibrium conditions that we defined."
   ]
  },
  {
   "cell_type": "code",
   "execution_count": 12,
   "id": "26c86e69-31cc-4edc-8005-b56948bddd18",
   "metadata": {},
   "outputs": [
    {
     "data": {
      "text/plain": [
       "(6, 2)"
      ]
     },
     "execution_count": 12,
     "metadata": {},
     "output_type": "execute_result"
    }
   ],
   "source": [
    "A, B, A_sym, B_sym = linearize(e_l_e, e_h_e, v_e, w_e, theta_e, thetadot_e, tau_right_e, tau_left_e)\n",
    "B.shape"
   ]
  },
  {
   "cell_type": "code",
   "execution_count": 13,
   "id": "043cf629-c118-4a5c-b170-ea70b58c5e9b",
   "metadata": {},
   "outputs": [],
   "source": [
    "W = B\n",
    "W = np.hstack((W, A@B, A@A@B, A@A@A@B, A@A@A@A@B, A@A@A@A@A@B))"
   ]
  },
  {
   "cell_type": "code",
   "execution_count": 14,
   "id": "23ef1032-0855-4646-a89a-6435c4328428",
   "metadata": {},
   "outputs": [
    {
     "data": {
      "text/plain": [
       "6"
      ]
     },
     "execution_count": 14,
     "metadata": {},
     "output_type": "execute_result"
    }
   ],
   "source": [
    "np.linalg.matrix_rank(W)"
   ]
  },
  {
   "cell_type": "code",
   "execution_count": 15,
   "id": "d3234c24-3817-4458-af49-785043ec64c3",
   "metadata": {},
   "outputs": [],
   "source": [
    "def LQR():\n",
    "    \n",
    "    Q_list = [] # to store a list of candidate Q matrices\n",
    "    R_list = [] # to store a list of candidate R matrices\n",
    "    \n",
    "    q1 = np.linspace(1000, 10000, 20)\n",
    "    q2 = np.linspace(.1, 500, 20)\n",
    "    q3 = np.linspace(0.1, 1, 20)\n",
    "    q4 = np.linspace(0.1, 1, 20)\n",
    "    q5 = np.linspace(0.1, 1, 20)\n",
    "    q6 = np.linspace(0.1, 5, 20)\n",
    "    \n",
    "    for i in range(0, 20):\n",
    "        Q = np.diag([q1[i], q2[i], q3[i],q4[i], q5[i], q6[i]])\n",
    "        Q_list.append(Q)\n",
    "        \n",
    "        R = np.eye(2)\n",
    "        R_list.append(R)\n",
    "\n",
    "    return Q_list, R_list\n",
    "\n",
    "Q_list, R_list = LQR()"
   ]
  },
  {
   "cell_type": "markdown",
   "id": "16251beb-c630-49a6-9fb9-e7d67e0ab544",
   "metadata": {},
   "source": [
    "Now that we have the $Q$ and $R$ matrices, we can find a few gain matrices $K$ that work for our requirements."
   ]
  },
  {
   "cell_type": "code",
   "execution_count": 16,
   "id": "2df57c3c-5969-4a9b-b019-56b6b54a6a76",
   "metadata": {},
   "outputs": [],
   "source": [
    "def get_candidate_gain_matrices(A, B, Q_list, R_list):\n",
    "    \n",
    "    K_list = []\n",
    "    \n",
    "    for i in range(len(Q_list)):\n",
    "        P = la.solve_continuous_are(A, B, Q_list[i], R_list[i])\n",
    "        K = np.linalg.inv(R_list[i]) @ B.T @ P\n",
    "        K_list.append(K)\n",
    "    \n",
    "    return K_list\n",
    "\n",
    "K_list = get_candidate_gain_matrices(A, B, Q_list, R_list)"
   ]
  },
  {
   "cell_type": "code",
   "execution_count": 17,
   "id": "9ddbca80-deee-4b1a-b101-f6d93ca99b0c",
   "metadata": {},
   "outputs": [],
   "source": [
    "class RobotController:\n",
    "    \n",
    "    def __init__(self, K, e_l_e, e_h_e, v_e, w_e, theta_e, thetadot_e, tau_right_e, tau_left_e, dt):\n",
    "        \n",
    "        self.K = K\n",
    "        self.e_l_e = e_l_e\n",
    "        self.e_h_e = e_h_e\n",
    "        self.v_e = v_e\n",
    "        self.w_e = w_e\n",
    "        self.theta_e = theta_e\n",
    "        self.thetadot_e = thetadot_e\n",
    "        self.tau_right_e = tau_right_e\n",
    "        self.tau_left_e = tau_left_e\n",
    "        self.dt = dt\n",
    "       \n",
    "    def run(self, lateral_error, heading_error, forward_speed, turning_rate, pitch_angle, pitch_rate):\n",
    "        x = np.array([\n",
    "            lateral_error - self.e_l_e,\n",
    "            heading_error - self.e_h_e,\n",
    "            forward_speed - self.v_e,\n",
    "            turning_rate - self.w_e,\n",
    "            pitch_angle - self.theta_e,\n",
    "            pitch_rate - self.thetadot_e\n",
    "        ])\n",
    "        \n",
    "        u = -self.K@x\n",
    "        \n",
    "        tau_left = u[1]\n",
    "        tau_right = u[0]\n",
    "        \n",
    "        return tau_left, tau_right"
   ]
  },
  {
   "cell_type": "markdown",
   "id": "1be2ab25-5814-4c31-aea9-d859feb7e77a",
   "metadata": {},
   "source": [
    "We are about to run the simulation, so we need some starting points:"
   ]
  },
  {
   "cell_type": "code",
   "execution_count": 18,
   "id": "d82b12bc-9d90-40d6-a8c8-cfc7e650c9e6",
   "metadata": {},
   "outputs": [],
   "source": [
    "# Initial conditions\n",
    "\n",
    "turn_left = False\n",
    "ground_pitch = 0.\n",
    "initial_speed = 1.5\n",
    "initial_lateral_error = 0.05\n",
    "initial_heading_error = 0.05\n",
    "initial_pitch = 0."
   ]
  },
  {
   "cell_type": "code",
   "execution_count": 19,
   "id": "23e951d9-20fd-4583-9d4e-8f0cb9a274d0",
   "metadata": {},
   "outputs": [],
   "source": [
    "def simulate(robot, e_l_e, e_h_e, v_e, w_e, theta_e, thetadot_e, tau_right_e, tau_left_e, K, turn_left, ground_pitch, inital_speed, initial_lateral_error, initial_heading_error, initial_pitch, dt):\n",
    "    \n",
    "    controller = RobotController(K, e_l_e, e_h_e, v_e, w_e, theta_e, thetadot_e, tau_right_e, tau_left_e, dt)\n",
    "    \n",
    "    robot.reset(\n",
    "        turn_left,\n",
    "        ground_pitch,\n",
    "        initial_speed,\n",
    "        initial_lateral_error,\n",
    "        initial_heading_error,\n",
    "        initial_pitch\n",
    "    )\n",
    "    \n",
    "    robot.camera_topview()\n",
    "    \n",
    "    run_time = 30.\n",
    "    num_steps = int(run_time / dt)\n",
    "    \n",
    "    data = {\n",
    "           't': np.empty(num_steps, dtype=float),\n",
    "            'lateral_error': np.empty(num_steps, dtype=float),\n",
    "            'heading_error': np.empty(num_steps, dtype=float),\n",
    "            'forward_speed': np.empty(num_steps, dtype=float),\n",
    "            'turning_rate': np.empty(num_steps, dtype=float),\n",
    "            'pitch_angle': np.empty(num_steps, dtype=float),\n",
    "            'pitch_rate': np.empty(num_steps, dtype=float),\n",
    "            'tau_left_command': np.empty(num_steps, dtype=float),\n",
    "            'tau_right_command': np.empty(num_steps, dtype=float),\n",
    "            'tau_left': np.empty(num_steps, dtype=float),\n",
    "            'tau_right': np.empty(num_steps, dtype=float),\n",
    "        }\n",
    "    \n",
    "    start_time = time.time()\n",
    "    \n",
    "    for step in range(num_steps):\n",
    "        \n",
    "        # Get the current time\n",
    "        t = robot.dt * step\n",
    "\n",
    "        # Get the sensor measurements\n",
    "        (lateral_error,\n",
    "         heading_error,\n",
    "         forward_speed,\n",
    "         turning_rate,\n",
    "         pitch_angle,\n",
    "         pitch_rate) = robot.get_sensor_measurements()\n",
    "\n",
    "        # Choose the actuator command (by running the controller)\n",
    "        tau_left_command, tau_right_command = controller.run(lateral_error,\n",
    "                                                             heading_error,\n",
    "                                                             forward_speed,\n",
    "                                                             turning_rate,\n",
    "                                                             pitch_angle,\n",
    "                                                             pitch_rate)\n",
    "\n",
    "        # Apply the actuator commands\n",
    "        tau_left, tau_right = robot.set_actuator_commands(tau_left_command, tau_right_command)\n",
    "\n",
    "        # Log the data from this time step\n",
    "        data['t'][step] = t\n",
    "        data['lateral_error'][step] = lateral_error\n",
    "        data['heading_error'][step] = heading_error\n",
    "        data['forward_speed'][step] = forward_speed\n",
    "        data['turning_rate'][step] = turning_rate\n",
    "        data['pitch_angle'][step] = pitch_angle\n",
    "        data['pitch_rate'][step] = pitch_rate\n",
    "        data['tau_left_command'][step] = tau_left_command\n",
    "        data['tau_right_command'][step] = tau_right_command\n",
    "        data['tau_left'][step] = tau_left\n",
    "        data['tau_right'][step] = tau_right\n",
    "\n",
    "        # Simulate one time step\n",
    "        robot.step(t=(start_time + (robot.dt * (step + 1))))\n",
    "        \n",
    "        if step == num_steps - 1:\n",
    "            print('ending data collection') \n",
    "        \n",
    "    return data"
   ]
  },
  {
   "cell_type": "code",
   "execution_count": 20,
   "id": "5a43aab2-91dc-4b05-8835-39c97596ec6f",
   "metadata": {},
   "outputs": [],
   "source": [
    "def validate_K(K_list, Q_list, R_list, robot):\n",
    "    \n",
    "    K_valid = []\n",
    "    Q_valid = []\n",
    "    R_valid = []\n",
    "    data_list = []\n",
    "    valids = []\n",
    "    \n",
    "    for i in range(len(K_list)):\n",
    "        \n",
    "        K = K_list[i]\n",
    "        \n",
    "        data = simulate(robot, e_l_e, e_h_e, v_e, w_e, theta_e, thetadot_e, tau_right_e, tau_left_e, K, turn_left, ground_pitch, initial_speed, initial_lateral_error, initial_heading_error, initial_pitch, dt = robot.dt)\n",
    "        \n",
    "        data_list.append(data)\n",
    "        \n",
    "        pitch_angle = data['pitch_angle']\n",
    "        heading_error = data['heading_error']\n",
    "        lateral_error = data['lateral_error']\n",
    "        \n",
    "\n",
    "        \n",
    "        temp1 = np.abs(heading_error)\n",
    "        temp2 = np.abs(lateral_error)\n",
    "        \n",
    "        print(np.max(temp1))\n",
    "        print(np.max(temp2))\n",
    "        \n",
    "        if (np.all(temp1 < 0.12) and np.all(temp2 < 0.13)) == True:\n",
    "            \n",
    "            print('Data is valid')\n",
    "            K_valid.append(K)\n",
    "            Q_valid.append(Q_list[i])\n",
    "            R_valid.append(R_list[i])\n",
    "            valids.append(i)\n",
    "            \n",
    "        else:\n",
    "            print('Data is invalid')\n",
    "            \n",
    "        print(' ')\n",
    "\n",
    "    return K_valid, Q_valid, R_valid, data_list, valids"
   ]
  },
  {
   "cell_type": "code",
   "execution_count": 22,
   "id": "48fe2e15-4d29-44fc-9d0b-665385d16ddc",
   "metadata": {
    "tags": []
   },
   "outputs": [
    {
     "name": "stdout",
     "output_type": "stream",
     "text": [
      "ending data collection\n",
      "0.0772262978231478\n",
      "0.06961182443399849\n",
      "Data is valid\n",
      " \n",
      "ending data collection\n",
      "0.07737265638495575\n",
      "0.06685008765711231\n",
      "Data is valid\n",
      " \n",
      "ending data collection\n",
      "0.08169371373434978\n",
      "0.06570203993928914\n",
      "Data is valid\n",
      " \n",
      "ending data collection\n",
      "0.08098952088170977\n",
      "0.06466138784348097\n",
      "Data is valid\n",
      " \n",
      "ending data collection\n",
      "0.08066974196786818\n",
      "0.06355249203502034\n",
      "Data is valid\n",
      " \n",
      "ending data collection\n",
      "0.08052978977419908\n",
      "0.06233947761101355\n",
      "Data is valid\n",
      " \n",
      "ending data collection\n",
      "0.08329256492967879\n",
      "0.061206022331278476\n",
      "Data is valid\n",
      " \n",
      "ending data collection\n",
      "0.08446746887148264\n",
      "0.06179815149680934\n",
      "Data is valid\n",
      " \n",
      "ending data collection\n",
      "0.08438719127615074\n",
      "0.0608645509611474\n",
      "Data is valid\n",
      " \n",
      "ending data collection\n",
      "0.08537979891521066\n",
      "0.06018694735527852\n",
      "Data is valid\n",
      " \n",
      "ending data collection\n",
      "0.08682288399421478\n",
      "0.05973399604602214\n",
      "Data is valid\n",
      " \n",
      "ending data collection\n",
      "0.08678268786535638\n",
      "0.059642305358453385\n",
      "Data is valid\n",
      " \n",
      "ending data collection\n",
      "0.08806493586632884\n",
      "0.05920823000866626\n",
      "Data is valid\n",
      " \n",
      "ending data collection\n",
      "0.0858148866323212\n",
      "0.05907409432474786\n",
      "Data is valid\n",
      " \n",
      "ending data collection\n",
      "0.08820849780525356\n",
      "0.05929351964930696\n",
      "Data is valid\n",
      " \n",
      "ending data collection\n",
      "0.08806440065875785\n",
      "0.05871348267648102\n",
      "Data is valid\n",
      " \n",
      "ending data collection\n",
      "0.0883885612508109\n",
      "0.05898563234927323\n",
      "Data is valid\n",
      " \n",
      "ending data collection\n",
      "0.08831873987395766\n",
      "0.05804576090819502\n",
      "Data is valid\n",
      " \n",
      "ending data collection\n",
      "0.08933905758496825\n",
      "0.058834234365733096\n",
      "Data is valid\n",
      " \n",
      "ending data collection\n",
      "0.08979525086700565\n",
      "0.05825620924746211\n",
      "Data is valid\n",
      " \n"
     ]
    }
   ],
   "source": [
    "K, Q, R, data, valids = validate_K(K_list, Q_list, R_list, robot)"
   ]
  },
  {
   "cell_type": "code",
   "execution_count": 23,
   "id": "5e9028bf-311c-4263-b526-298c4e7cbead",
   "metadata": {},
   "outputs": [
    {
     "name": "stdout",
     "output_type": "stream",
     "text": [
      "Since all the eigenvalue real parts are negative, system is asym stable.\n"
     ]
    }
   ],
   "source": [
    "is_True = np.zeros(len(K))\n",
    "dummy_var = []\n",
    "for i in range(len(K)):\n",
    "    dummy_var.append(la.eig(A - B@K[i])[0])\n",
    "    if (np.all(np.real(dummy_var[i]) < 0)):\n",
    "        is_True[i] = 1\n",
    "\n",
    "if (np.all(is_True == 1)):\n",
    "    print('Since all the eigenvalue real parts are negative, system is asym stable.')"
   ]
  },
  {
   "cell_type": "code",
   "execution_count": 24,
   "id": "ae1b32c6-8ec8-4f6e-b2a8-158ebb70f466",
   "metadata": {},
   "outputs": [
    {
     "data": {
      "text/plain": [
       "6"
      ]
     },
     "execution_count": 24,
     "metadata": {},
     "output_type": "execute_result"
    }
   ],
   "source": [
    "sigma1 = la.eig(A- B@K[0])[0]\n",
    "k1 = signal.place_poles(A, B, sigma1).gain_matrix\n",
    "np.linalg.matrix_rank(A - B@K[0])"
   ]
  },
  {
   "cell_type": "code",
   "execution_count": 25,
   "id": "2b973367-ebf9-42c2-be34-4ebb759b6310",
   "metadata": {},
   "outputs": [
    {
     "name": "stdout",
     "output_type": "stream",
     "text": [
      "ending data collection\n"
     ]
    }
   ],
   "source": [
    "data = simulate(robot, e_l_e, e_h_e, v_e, w_e, theta_e, thetadot_e, tau_right_e, tau_left_e, k1, turn_left, ground_pitch, initial_speed, initial_lateral_error, initial_heading_error, initial_pitch, dt = robot.dt)"
   ]
  },
  {
   "cell_type": "code",
   "execution_count": 26,
   "id": "3902498a-d1c9-42e4-b8a9-9e3e3a1523a8",
   "metadata": {},
   "outputs": [
    {
     "data": {
      "image/png": "[encoded data removed]",
      "text/plain": [
       "<Figure size 900x1200 with 4 Axes>"
      ]
     },
     "metadata": {},
     "output_type": "display_data"
    }
   ],
   "source": [
    "# Create a figure with four subplots, all of which share the same x-axis\n",
    "fig, ax = plt.subplots(4, 1, figsize=(9, 12), sharex=True)\n",
    "\n",
    "# First subplot\n",
    "ax[0].plot(data['t'], data['lateral_error'], label='lateral error (m)', linewidth=2)\n",
    "ax[0].plot(data['t'], data['heading_error'], label='heading error (rad)', linewidth=2)\n",
    "ax[0].grid()\n",
    "ax[0].legend(fontsize=16)\n",
    "ax[0].tick_params(labelsize=14)\n",
    "\n",
    "# Second subplot\n",
    "ax[1].plot(data['t'], data['forward_speed'], label='forward speed (m/s)', linewidth=2)\n",
    "ax[1].plot(data['t'], data['turning_rate'], label='turning rate (rad/s)', linewidth=2)\n",
    "ax[1].grid()\n",
    "ax[1].legend(fontsize=16)\n",
    "ax[1].tick_params(labelsize=14)\n",
    "\n",
    "# Third subplot\n",
    "ax[2].plot(data['t'], data['pitch_angle'], label='pitch angle (rad)', linewidth=2)\n",
    "ax[2].plot(data['t'], data['pitch_rate'], label='pitch rate (rad/s)', linewidth=2)\n",
    "ax[2].grid()\n",
    "ax[2].legend(fontsize=16)\n",
    "ax[2].tick_params(labelsize=14)\n",
    "\n",
    "# Fourth subplot\n",
    "ax[3].plot(data['t'], data['tau_left'], label='left wheel torque (N-m)', linewidth=4)\n",
    "ax[3].plot(data['t'], data['tau_right'], label='right wheel torque (N-m)', linewidth=4)\n",
    "ax[3].plot(data['t'], np.ones_like(data['t']) * robot.tau_max, '--', label='max torque', linewidth=4, color='C2')\n",
    "ax[3].plot(data['t'], -np.ones_like(data['t']) * robot.tau_max, '--', linewidth=4, color='C2')\n",
    "ax[3].grid()\n",
    "ax[3].legend(fontsize=16)\n",
    "ax[3].tick_params(labelsize=14)\n",
    "ax[3].set_ylim(-1.2 * robot.tau_max, 1.2 * robot.tau_max)\n",
    "\n",
    "# Set x-axis properties (only need to do this on the fourth\n",
    "# subplot since all four subplots share the same x-axis)\n",
    "ax[3].set_xlabel('time (s)', fontsize=20)\n",
    "ax[3].set_xlim([data['t'][0], data['t'][-1]])\n",
    "\n",
    "# Make the arrangement of subplots look nice\n",
    "fig.tight_layout()"
   ]
  },
  {
   "cell_type": "code",
   "execution_count": null,
   "id": "98a13758-7a36-41e2-8257-b2df4e345b03",
   "metadata": {},
   "outputs": [],
   "source": []
  }
 ],
 "metadata": {
  "kernelspec": {
   "display_name": "Python (ae353-bullet)",
   "language": "python",
   "name": "ae353-bullet"
  },
  "language_info": {
   "codemirror_mode": {
    "name": "ipython",
    "version": 3
   },
   "file_extension": ".py",
   "mimetype": "text/x-python",
   "name": "python",
   "nbconvert_exporter": "python",
   "pygments_lexer": "ipython3",
   "version": "3.10.4"
  }
 },
 "nbformat": 4,
 "nbformat_minor": 5
}
